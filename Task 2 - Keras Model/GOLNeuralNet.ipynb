{
 "cells": [
  {
   "cell_type": "code",
   "execution_count": 1,
   "metadata": {},
   "outputs": [],
   "source": [
    "import numpy as np\n",
    "import GOL"
   ]
  },
  {
   "cell_type": "code",
   "execution_count": 2,
   "metadata": {
    "scrolled": true
   },
   "outputs": [],
   "source": [
    "#generate training data that is sequential\n",
    "data_X = []\n",
    "data_X.append(np.random.randint(0, 2, size = (7, 7)))\n",
    "data_X.append(GOL.returnNextGen(data_X[0]))"
   ]
  },
  {
   "cell_type": "code",
   "execution_count": 3,
   "metadata": {},
   "outputs": [],
   "source": [
    "def generateTrainingData(numArrays, listToAddTo):\n",
    "    for i in range(0, numArrays):\n",
    "        setToAppend = []\n",
    "        randomFrame = np.random.randint(0, 2, size = (7, 7))\n",
    "        setToAppend.append(randomFrame)\n",
    "        setToAppend.append(GOL.returnNextGen(randomFrame))\n",
    "        setToAppend.append(0)\n",
    "        listToAddTo.append(setToAppend)"
   ]
  },
  {
   "cell_type": "code",
   "execution_count": 4,
   "metadata": {},
   "outputs": [],
   "source": [
    "trainingList = []\n",
    "generateTrainingData(3000, trainingList)"
   ]
  },
  {
   "cell_type": "code",
   "execution_count": 5,
   "metadata": {},
   "outputs": [],
   "source": [
    "#generate training data that is not sequential\n",
    "def generateNonSequentialTrainingData(numArrays, listToAddTo):\n",
    "    for i in range(0, numArrays):\n",
    "        setToAppend = []\n",
    "        randomFrame = np.random.randint(0, 2, size = (7, 7))\n",
    "        randomFrame2 = np.random.randint(0, 2, size = (7, 7))\n",
    "        while np.array_equal(randomFrame, randomFrame2):\n",
    "            randomFrame2 = np.random.randint(0, 2, size = (7, 7))\n",
    "        setToAppend.append(randomFrame)\n",
    "        setToAppend.append(randomFrame2)\n",
    "        setToAppend.append(1)\n",
    "        listToAddTo.append(setToAppend)\n"
   ]
  },
  {
   "cell_type": "code",
   "execution_count": 6,
   "metadata": {},
   "outputs": [],
   "source": [
    "generateNonSequentialTrainingData(3000, trainingList)"
   ]
  },
  {
   "cell_type": "code",
   "execution_count": 7,
   "metadata": {},
   "outputs": [],
   "source": [
    "import random\n",
    "\n",
    "random.shuffle(trainingList)"
   ]
  },
  {
   "cell_type": "code",
   "execution_count": 8,
   "metadata": {},
   "outputs": [],
   "source": [
    "values = [x[2] for x in trainingList]"
   ]
  },
  {
   "cell_type": "code",
   "execution_count": 9,
   "metadata": {},
   "outputs": [],
   "source": [
    "trainingData_X = [x[:2] for x in trainingList]"
   ]
  },
  {
   "cell_type": "code",
   "execution_count": 10,
   "metadata": {},
   "outputs": [],
   "source": [
    "from sklearn.model_selection import train_test_split\n",
    "\n",
    "X_train, X_test, y_train, y_test = train_test_split(trainingData_X, values, test_size = 0.2, random_state = 42)"
   ]
  },
  {
   "cell_type": "code",
   "execution_count": 11,
   "metadata": {},
   "outputs": [],
   "source": [
    "X_train = np.asarray(X_train)"
   ]
  },
  {
   "cell_type": "markdown",
   "metadata": {},
   "source": [
    "from keras.models import Sequential, Input, Model"
   ]
  },
  {
   "cell_type": "code",
   "execution_count": 12,
   "metadata": {},
   "outputs": [],
   "source": [
    "toInput = X_train.reshape(4800, 98)\n",
    "toOutputTrain = np.asarray(y_train).reshape(4800,)"
   ]
  },
  {
   "cell_type": "code",
   "execution_count": 13,
   "metadata": {},
   "outputs": [
    {
     "name": "stderr",
     "output_type": "stream",
     "text": [
      "Using TensorFlow backend.\n"
     ]
    },
    {
     "name": "stdout",
     "output_type": "stream",
     "text": [
      "Train on 3840 samples, validate on 960 samples\n",
      "Epoch 1/50\n",
      "3840/3840 [==============================] - 0s 125us/step - loss: 0.4185 - accuracy: 0.7982 - val_loss: 0.2979 - val_accuracy: 0.8813\n",
      "Epoch 2/50\n",
      "3840/3840 [==============================] - 0s 84us/step - loss: 0.2682 - accuracy: 0.8917 - val_loss: 0.2407 - val_accuracy: 0.9094\n",
      "Epoch 3/50\n",
      "3840/3840 [==============================] - 0s 81us/step - loss: 0.1728 - accuracy: 0.9352 - val_loss: 0.2154 - val_accuracy: 0.9083\n",
      "Epoch 4/50\n",
      "3840/3840 [==============================] - 0s 81us/step - loss: 0.1243 - accuracy: 0.9560 - val_loss: 0.2360 - val_accuracy: 0.9031\n",
      "Epoch 5/50\n",
      "3840/3840 [==============================] - 0s 83us/step - loss: 0.0622 - accuracy: 0.9810 - val_loss: 0.2242 - val_accuracy: 0.9250\n",
      "Epoch 6/50\n",
      "3840/3840 [==============================] - 0s 119us/step - loss: 0.0386 - accuracy: 0.9885 - val_loss: 0.1917 - val_accuracy: 0.9302\n",
      "Epoch 7/50\n",
      "3840/3840 [==============================] - 0s 121us/step - loss: 0.0154 - accuracy: 0.9982 - val_loss: 0.2124 - val_accuracy: 0.9333\n",
      "Epoch 8/50\n",
      "3840/3840 [==============================] - 0s 108us/step - loss: 0.0042 - accuracy: 1.0000 - val_loss: 0.2175 - val_accuracy: 0.9365\n",
      "Epoch 9/50\n",
      "3840/3840 [==============================] - 0s 86us/step - loss: 0.0018 - accuracy: 1.0000 - val_loss: 0.2257 - val_accuracy: 0.9375\n",
      "Epoch 10/50\n",
      "3840/3840 [==============================] - 0s 96us/step - loss: 0.0012 - accuracy: 1.0000 - val_loss: 0.2345 - val_accuracy: 0.9385\n",
      "Epoch 11/50\n",
      "3840/3840 [==============================] - 0s 83us/step - loss: 9.1966e-04 - accuracy: 1.0000 - val_loss: 0.2420 - val_accuracy: 0.9427\n",
      "Epoch 12/50\n",
      "3840/3840 [==============================] - 0s 84us/step - loss: 7.0230e-04 - accuracy: 1.0000 - val_loss: 0.2442 - val_accuracy: 0.9385\n",
      "Epoch 13/50\n",
      "3840/3840 [==============================] - 0s 84us/step - loss: 5.5267e-04 - accuracy: 1.0000 - val_loss: 0.2501 - val_accuracy: 0.9396\n",
      "Epoch 14/50\n",
      "3840/3840 [==============================] - 0s 84us/step - loss: 4.4733e-04 - accuracy: 1.0000 - val_loss: 0.2587 - val_accuracy: 0.9406\n",
      "Epoch 15/50\n",
      "3840/3840 [==============================] - 0s 94us/step - loss: 3.7491e-04 - accuracy: 1.0000 - val_loss: 0.2590 - val_accuracy: 0.9406\n",
      "Epoch 16/50\n",
      "3840/3840 [==============================] - 0s 83us/step - loss: 3.0892e-04 - accuracy: 1.0000 - val_loss: 0.2622 - val_accuracy: 0.9406\n",
      "Epoch 17/50\n",
      "3840/3840 [==============================] - 0s 93us/step - loss: 2.6025e-04 - accuracy: 1.0000 - val_loss: 0.2669 - val_accuracy: 0.9417\n",
      "Epoch 18/50\n",
      "3840/3840 [==============================] - 0s 84us/step - loss: 2.1990e-04 - accuracy: 1.0000 - val_loss: 0.2712 - val_accuracy: 0.9417\n",
      "Epoch 19/50\n",
      "3840/3840 [==============================] - 0s 83us/step - loss: 1.8863e-04 - accuracy: 1.0000 - val_loss: 0.2749 - val_accuracy: 0.9417\n",
      "Epoch 20/50\n",
      "3840/3840 [==============================] - 0s 85us/step - loss: 1.6258e-04 - accuracy: 1.0000 - val_loss: 0.2773 - val_accuracy: 0.9406\n",
      "Epoch 21/50\n",
      "3840/3840 [==============================] - 0s 115us/step - loss: 1.4087e-04 - accuracy: 1.0000 - val_loss: 0.2843 - val_accuracy: 0.9406\n",
      "Epoch 22/50\n",
      "3840/3840 [==============================] - 0s 99us/step - loss: 1.2409e-04 - accuracy: 1.0000 - val_loss: 0.2851 - val_accuracy: 0.9406\n",
      "Epoch 23/50\n",
      "3840/3840 [==============================] - 0s 113us/step - loss: 1.0847e-04 - accuracy: 1.0000 - val_loss: 0.2864 - val_accuracy: 0.9406\n",
      "Epoch 24/50\n",
      "3840/3840 [==============================] - 0s 116us/step - loss: 9.4104e-05 - accuracy: 1.0000 - val_loss: 0.2898 - val_accuracy: 0.9406\n",
      "Epoch 25/50\n",
      "3840/3840 [==============================] - 0s 105us/step - loss: 8.3253e-05 - accuracy: 1.0000 - val_loss: 0.2932 - val_accuracy: 0.9417\n",
      "Epoch 26/50\n",
      "3840/3840 [==============================] - 0s 89us/step - loss: 7.3337e-05 - accuracy: 1.0000 - val_loss: 0.2961 - val_accuracy: 0.9396\n",
      "Epoch 27/50\n",
      "3840/3840 [==============================] - 0s 100us/step - loss: 6.5043e-05 - accuracy: 1.0000 - val_loss: 0.2998 - val_accuracy: 0.9417\n",
      "Epoch 28/50\n",
      "3840/3840 [==============================] - 0s 92us/step - loss: 5.7848e-05 - accuracy: 1.0000 - val_loss: 0.3008 - val_accuracy: 0.9406\n",
      "Epoch 29/50\n",
      "3840/3840 [==============================] - 0s 97us/step - loss: 5.1185e-05 - accuracy: 1.0000 - val_loss: 0.3041 - val_accuracy: 0.9417\n",
      "Epoch 30/50\n",
      "3840/3840 [==============================] - 0s 109us/step - loss: 4.5604e-05 - accuracy: 1.0000 - val_loss: 0.3060 - val_accuracy: 0.9406\n",
      "Epoch 31/50\n",
      "3840/3840 [==============================] - 0s 117us/step - loss: 4.0830e-05 - accuracy: 1.0000 - val_loss: 0.3092 - val_accuracy: 0.9417\n",
      "Epoch 32/50\n",
      "3840/3840 [==============================] - 0s 91us/step - loss: 3.6905e-05 - accuracy: 1.0000 - val_loss: 0.3127 - val_accuracy: 0.9417\n",
      "Epoch 33/50\n",
      "3840/3840 [==============================] - 0s 109us/step - loss: 3.2912e-05 - accuracy: 1.0000 - val_loss: 0.3163 - val_accuracy: 0.9417\n",
      "Epoch 34/50\n",
      "3840/3840 [==============================] - 0s 84us/step - loss: 2.9438e-05 - accuracy: 1.0000 - val_loss: 0.3177 - val_accuracy: 0.9417\n",
      "Epoch 35/50\n",
      "3840/3840 [==============================] - 0s 92us/step - loss: 2.6468e-05 - accuracy: 1.0000 - val_loss: 0.3207 - val_accuracy: 0.9417\n",
      "Epoch 36/50\n",
      "3840/3840 [==============================] - 0s 99us/step - loss: 2.3839e-05 - accuracy: 1.0000 - val_loss: 0.3236 - val_accuracy: 0.9417\n",
      "Epoch 37/50\n",
      "3840/3840 [==============================] - 0s 86us/step - loss: 2.1777e-05 - accuracy: 1.0000 - val_loss: 0.3243 - val_accuracy: 0.9417\n",
      "Epoch 38/50\n",
      "3840/3840 [==============================] - 0s 83us/step - loss: 1.9380e-05 - accuracy: 1.0000 - val_loss: 0.3291 - val_accuracy: 0.9417\n",
      "Epoch 39/50\n",
      "3840/3840 [==============================] - 0s 81us/step - loss: 1.7566e-05 - accuracy: 1.0000 - val_loss: 0.3303 - val_accuracy: 0.9417\n",
      "Epoch 40/50\n",
      "3840/3840 [==============================] - 0s 125us/step - loss: 1.5876e-05 - accuracy: 1.0000 - val_loss: 0.3331 - val_accuracy: 0.9417\n",
      "Epoch 41/50\n",
      "3840/3840 [==============================] - 0s 93us/step - loss: 1.4414e-05 - accuracy: 1.0000 - val_loss: 0.3347 - val_accuracy: 0.9417\n",
      "Epoch 42/50\n",
      "3840/3840 [==============================] - 0s 89us/step - loss: 1.3089e-05 - accuracy: 1.0000 - val_loss: 0.3389 - val_accuracy: 0.9406\n",
      "Epoch 43/50\n",
      "3840/3840 [==============================] - 0s 92us/step - loss: 1.1925e-05 - accuracy: 1.0000 - val_loss: 0.3399 - val_accuracy: 0.9417\n",
      "Epoch 44/50\n",
      "3840/3840 [==============================] - 0s 92us/step - loss: 1.0801e-05 - accuracy: 1.0000 - val_loss: 0.3427 - val_accuracy: 0.9417\n",
      "Epoch 45/50\n",
      "3840/3840 [==============================] - 0s 94us/step - loss: 9.8472e-06 - accuracy: 1.0000 - val_loss: 0.3440 - val_accuracy: 0.9417\n",
      "Epoch 46/50\n",
      "3840/3840 [==============================] - 0s 100us/step - loss: 9.0043e-06 - accuracy: 1.0000 - val_loss: 0.3469 - val_accuracy: 0.9417\n",
      "Epoch 47/50\n",
      "3840/3840 [==============================] - 1s 132us/step - loss: 8.2111e-06 - accuracy: 1.0000 - val_loss: 0.3495 - val_accuracy: 0.9406\n",
      "Epoch 48/50\n",
      "3840/3840 [==============================] - 0s 128us/step - loss: 7.4633e-06 - accuracy: 1.0000 - val_loss: 0.3509 - val_accuracy: 0.9417\n",
      "Epoch 49/50\n",
      "3840/3840 [==============================] - 0s 112us/step - loss: 6.8258e-06 - accuracy: 1.0000 - val_loss: 0.3535 - val_accuracy: 0.9417\n",
      "Epoch 50/50\n",
      "3840/3840 [==============================] - 0s 96us/step - loss: 6.2401e-06 - accuracy: 1.0000 - val_loss: 0.3562 - val_accuracy: 0.9406\n"
     ]
    }
   ],
   "source": [
    "import keras\n",
    "from keras.models import Sequential, Input, Model\n",
    "from keras.layers import Dense, LSTM\n",
    "from keras import losses\n",
    "\n",
    "model = Sequential()\n",
    "model.add(Dense(198, activation = 'relu'))\n",
    "model.add(Dense(392, activation = 'relu'))\n",
    "model.add(Dense(1,  activation = 'sigmoid'))\n",
    "\n",
    "model.compile(optimizer = 'adam', loss = losses.binary_crossentropy, metrics = ['accuracy'])\n",
    "GOLFit = model.fit(toInput, toOutputTrain, validation_split = 0.2, epochs = 50)"
   ]
  },
  {
   "cell_type": "code",
   "execution_count": 14,
   "metadata": {},
   "outputs": [
    {
     "name": "stdout",
     "output_type": "stream",
     "text": [
      "Model: \"sequential_1\"\n",
      "_________________________________________________________________\n",
      "Layer (type)                 Output Shape              Param #   \n",
      "=================================================================\n",
      "dense_1 (Dense)              (None, 198)               19602     \n",
      "_________________________________________________________________\n",
      "dense_2 (Dense)              (None, 392)               78008     \n",
      "_________________________________________________________________\n",
      "dense_3 (Dense)              (None, 1)                 393       \n",
      "=================================================================\n",
      "Total params: 98,003\n",
      "Trainable params: 98,003\n",
      "Non-trainable params: 0\n",
      "_________________________________________________________________\n"
     ]
    }
   ],
   "source": [
    "model.summary()"
   ]
  },
  {
   "cell_type": "code",
   "execution_count": 15,
   "metadata": {},
   "outputs": [],
   "source": [
    "X_test = np.asarray(X_test)"
   ]
  },
  {
   "cell_type": "code",
   "execution_count": 16,
   "metadata": {},
   "outputs": [],
   "source": [
    "toTest = X_test.reshape(1200, 98)\n",
    "toOutputTest = np.asarray(y_test).reshape(1200,)"
   ]
  },
  {
   "cell_type": "code",
   "execution_count": 17,
   "metadata": {},
   "outputs": [
    {
     "name": "stdout",
     "output_type": "stream",
     "text": [
      "1200/1200 [==============================] - 0s 72us/step\n",
      "Test accuracy: 0.9424999952316284\n"
     ]
    }
   ],
   "source": [
    "test_loss, test_acc = model.evaluate(toTest, toOutputTest)\n",
    "print('Test accuracy:', test_acc)"
   ]
  },
  {
   "cell_type": "code",
   "execution_count": 18,
   "metadata": {},
   "outputs": [],
   "source": [
    "y_score_train = model.predict_classes(toInput)\n",
    "y_score_test = model.predict_classes(toTest)"
   ]
  },
  {
   "cell_type": "code",
   "execution_count": 19,
   "metadata": {},
   "outputs": [],
   "source": [
    "train_label_score = toOutputTrain\n",
    "test_label_score = toOutputTest"
   ]
  },
  {
   "cell_type": "code",
   "execution_count": 20,
   "metadata": {},
   "outputs": [
    {
     "name": "stdout",
     "output_type": "stream",
     "text": [
      "Training Accuracy: 98.812500 percent\n",
      "Training Precision: 99.003322 percent\n",
      "Training Recall: 98.634671 percent\n",
      "Testing accuracy: 94.250000 percent\n",
      "Test precision: 93.559322 percent\n",
      "Test recall: 94.682676 percent\n"
     ]
    }
   ],
   "source": [
    "from sklearn.metrics import accuracy_score\n",
    "from sklearn.metrics import precision_score\n",
    "from sklearn.metrics import recall_score\n",
    "\n",
    "train_accuracy = accuracy_score(train_label_score, y_score_train)\n",
    "print(\"Training Accuracy: %f percent\" %(train_accuracy*100))\n",
    "train_precision = precision_score(train_label_score, y_score_train)\n",
    "print(\"Training Precision: %f percent\" %(train_precision * 100))\n",
    "train_recall = recall_score(train_label_score, y_score_train)\n",
    "print(\"Training Recall: %f percent\" %(train_recall * 100))\n",
    "test_accuracy = accuracy_score(test_label_score, y_score_test)\n",
    "print(\"Testing accuracy: %f percent\" %(test_accuracy * 100))\n",
    "test_precision = precision_score(test_label_score, y_score_test)\n",
    "print(\"Test precision: %f percent\" %(test_precision * 100))\n",
    "test_recall = recall_score(test_label_score, y_score_test)\n",
    "print(\"Test recall: %f percent\" %(test_recall * 100))"
   ]
  },
  {
   "cell_type": "code",
   "execution_count": 21,
   "metadata": {},
   "outputs": [
    {
     "name": "stdout",
     "output_type": "stream",
     "text": [
      "Saved model to disk\n"
     ]
    }
   ],
   "source": [
    "from keras.models import model_from_json\n",
    "model_json = model.to_json()\n",
    "with open(\"model.json\", \"w\") as json_file:\n",
    "    json_file.write(model_json)\n",
    "model.save_weights(\"model.h5\")\n",
    "print(\"Saved model to disk\")"
   ]
  },
  {
   "cell_type": "code",
   "execution_count": 22,
   "metadata": {},
   "outputs": [
    {
     "name": "stdout",
     "output_type": "stream",
     "text": [
      "Loaded model from disk\n"
     ]
    }
   ],
   "source": [
    "json_file = open('model.json', 'r')\n",
    "loaded_model_json = json_file.read()\n",
    "json_file.close()\n",
    "loaded_model = model_from_json(loaded_model_json)\n",
    "# load weights into new model\n",
    "loaded_model.load_weights(\"model.h5\")\n",
    "print(\"Loaded model from disk\")"
   ]
  }
 ],
 "metadata": {
  "kernelspec": {
   "display_name": "Python 3",
   "language": "python",
   "name": "python3"
  },
  "language_info": {
   "codemirror_mode": {
    "name": "ipython",
    "version": 3
   },
   "file_extension": ".py",
   "mimetype": "text/x-python",
   "name": "python",
   "nbconvert_exporter": "python",
   "pygments_lexer": "ipython3",
   "version": "3.7.3"
  }
 },
 "nbformat": 4,
 "nbformat_minor": 2
}
